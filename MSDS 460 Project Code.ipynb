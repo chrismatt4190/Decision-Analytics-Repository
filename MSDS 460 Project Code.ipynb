{
 "cells": [
  {
   "cell_type": "markdown",
   "metadata": {},
   "source": [
    "PROBLEM DESCRIPTION\n",
    "\n",
    "NU Industries operates two manufacturing plants that produce three products: Widgets, Gadgets, and Flugels. The finished products are shipped to the Distribution Center for final distribution to the customers. Five periods of production are to be scheduled.\n",
    "\n",
    "\n",
    "According to the Sales Department, the production requirements that must be met due to contracts during the planning horizon are as follows (MSDS 460 Project Requirement Table 1)\n",
    "\n",
    "\n",
    "Also, the Marketing & Forecasting Department anticipates that NU Industries can cultivate additional demand within the distribution area through effective advertising. The M&F Department projects that each $160 invested in advertising Widgets in a particular period creates additional demand for one Widget in the next period. The corresponding values for Gadgets and Flugels are $120 and $180, respectively. However, the total advertising budget is limited to $70,000 for the entire planning horizon.\n",
    "\n",
    "\n",
    "Throughout the planning horizon, NU Industries will sell Widgets for $2490, Gadgets for $1990, and Flugels for $2970. The products can be manufactured at either of NU's Manufacturing Plants.\n",
    "\n",
    "The Engineering Department has provided the following manufacturing and inventory data.\n"
   ]
  },
  {
   "cell_type": "markdown",
   "metadata": {},
   "source": [
    "Plant A\n",
    "\n",
    "The production requirements at Plant A are summarized below.\n",
    "•\tEach Widget requires 194 pounds of Raw Material 1, 8.6 pounds of Raw Material 2, and 9.5 hours of Labor.\n",
    "•\tEach Gadget requires 230 pounds of Raw Material 1 and 7.1 hours of Labor.\n",
    "•\tEach Flugel requires 178 pounds of Raw Material 1, 11.6 pounds of Raw Material 2, and 11.1 hours of Labor.\n",
    "\n",
    "Regular time labor availability is limited to 2500 hours in each period, but overtime can be scheduled in any amount if necessary. Labor costs during periods 1 and 2 are $11/hour for regular time and $16.50/hour for overtime. Labor costs are expected to rise by 5% at the end of period 2.\n",
    "\n",
    "The product inventory area can store a combined maximum of 70 units, and inventory costs are as follows. It costs $7.50 to store one Widget from one period to the next. The corresponding costs for Gadgets and Flugels are $5.50 and $6.50, respectively.\n"
   ]
  },
  {
   "cell_type": "markdown",
   "metadata": {},
   "source": [
    "Plant B\n",
    "\n",
    "The production requirements at Plant B are summarized below.  Plant B is the more modern of the two facilities and is able to produce the products in a slightly more efficient manner.\n",
    "•\tEach Widget requires 188 pounds of Raw Material 1, 9.2 pounds of Raw Material 2, and 9.1 hours of Labor.\n",
    "•\tEach Gadget requires 225 pounds of Raw Material 1 and 7.8 hours of Labor.\n",
    "•\tEach Flugel requires 170 pounds of Raw Material 1, 10.8 pounds of Raw Material 2, and 10.6 hours of Labor.\n",
    "\n",
    "\n",
    "Regular time labor availability is limited to 3800 hours in each period, but overtime can be scheduled in any amount if necessary. Labor costs during periods 1 and 2 are $11/hour for regular time and $16.50/hour for overtime. Labor costs are expected to rise by 10% at the end of period 2.\n",
    "\n",
    "\n",
    "The product inventory area can store a combined maximum of 50 units, and inventory costs are as follows. It costs $7.80 to store one Widget from one period to the next. The corresponding costs for Gadgets and Flugels are $5.70 and $7.00, respectively.\n"
   ]
  },
  {
   "cell_type": "markdown",
   "metadata": {},
   "source": [
    "Raw Material\n",
    "\n",
    "A maximum of 70 tons of Raw Material 1 and 2.5 tons of Raw Material 2 are available from a raw material vendor each period. Because of the proximity of the vendor to the plants, Raw Material 1 delivered to Plant A costs $1.25/pound and Raw Material 2 delivered to Plant A costs $2.65/pound. The corresponding costs for Plant B are $1.45/pound for Raw Material 1 and $2.90/pound for Raw Material 2. Each plant only purchases raw material that can be used within a given period, since storage areas are limited.  (Note, 1 ton = 2000 pounds)\n",
    "\n"
   ]
  },
  {
   "cell_type": "markdown",
   "metadata": {},
   "source": [
    "Transportation Costs\n",
    "\n",
    "There is an average transportation cost associated with the shipment of each unit of finished product from each plant to the Distribution Center. The cost depends on the product and the plant of origin. The unit shipping costs are given in the following table (MSDS 460 Project Requirement Table 2.png)\n"
   ]
  },
  {
   "cell_type": "markdown",
   "metadata": {},
   "source": [
    "Once solving for the baseline case.  Do a complete sensitivity analysis, and make business recommendations.  For example, if you could increase advertising budget – how much?  Which raw material do you need more of?  Recreate these scenarios and provide profit considerations.\n",
    "\n",
    "\n",
    "Also, if you solved this problem as an integer problem, how much does that differ your recommendations (above).\n"
   ]
  },
  {
   "cell_type": "code",
   "execution_count": 1,
   "metadata": {},
   "outputs": [],
   "source": [
    "from pulp import LpVariable, LpProblem, LpMaximize, LpStatus, value, LpMinimize, GLPK"
   ]
  },
  {
   "cell_type": "code",
   "execution_count": 4,
   "metadata": {},
   "outputs": [],
   "source": [
    "#Define the problem clearly\n",
    "#Maximize the profit over a planning horizon of 5 years\n",
    "\n",
    "prob = LpProblem(\"problem\", LpMaximize)\n",
    "#Production Demand \n",
    "\n",
    "widgets_prod_p1 = LpVariable(\"widgets_prod_p1\",70,None) # Widget unit production in period 1 with a minimum of 70 \n",
    "widgets_prod_p2 = LpVariable(\"widgets_prod_p2\",125,None) # Widget unit production in period 2 with a minimum of 125\n",
    "widgets_prod_p3 = LpVariable(\"widgets_prod_p3\",185,None) # Widget unit production in period 3 with a minimum of 185\n",
    "widgets_prod_p4 = LpVariable(\"widgets_prod_p4\",190,None) # Widget unit production in period 4 with a minimum of 190\n",
    "widgets_prod_p5 = LpVariable(\"widgets_prod_p5\",200,None) # Widget unit production in period 5 with a minimum of 200\n",
    "\n",
    "gadgets_prod_p1 = LpVariable(\"widgets_prod_p1\",200,None) # Gadget unit production in period 1 with a minimum of 200\n",
    "gadgets_prod_p2 = LpVariable(\"widgets_prod_p2\",300,None) # Gadget production in period 2 with a minimum of 300\n",
    "gadgets_prod_p3 = LpVariable(\"widgets_prod_p3\",295,None) # Gadget production in period 3 with a minimum of 295\n",
    "gadgets_prod_p4 = LpVariable(\"widgets_prod_p4\",245,None) # Gadget production in period 4 with a minimum of 245\n",
    "gadgets_prod_p5 = LpVariable(\"widgets_prod_p5\",240,None) # Gadget production in period 5 with a minimum of 240\n",
    "\n",
    "flugels_prod_p1 = LpVariable(\"widgets_prod_p1\",140,None) # Flugel production in period 1 with a minimum of 140\n",
    "flugels_prod_p2 = LpVariable(\"widgets_prod_p2\",175,None) # Flugel production in period 2 with a minimum of 175\n",
    "flugels_prod_p3 = LpVariable(\"widgets_prod_p3\",205,None) # Flugel production in period 3 with a minimum of 205\n",
    "flugels_prod_p4 = LpVariable(\"widgets_prod_p4\",235,None) # Flugel production in period 4 with a minimum of 235\n",
    "flugels_prod_p5 = LpVariable(\"widgets_prod_p5\",230,None) # Flugel production in period 5 with a minimum of 230\n",
    "\n",
    "#Marketing Efforts on Production Demand\n",
    "\n",
    "widgets_prod_a1 = LpVariable(\"widgets_prod_a1\",0,None) # Widget adiverstisement in period 1\n",
    "widgets_prod_a2 = LpVariable(\"widgets_prod_a2\",0,None) # Widget adiverstisement in period 2\n",
    "widgets_prod_a3 = LpVariable(\"widgets_prod_a3\",0,None) # Widget adiverstisement in period 3\n",
    "widgets_prod_a4 = LpVariable(\"widgets_prod_a4\",0,None) # Widget adiverstisement in period 4\n",
    "widgets_prod_a5 = LpVariable(\"widgets_prod_a5\",0,None) # Widget adiverstisement in period 5\n",
    "\n",
    "gadgets_prod_a1 = LpVariable(\"gadgets_prod_a1\",0,None) # Gadget created from adiverstisement in period 1\n",
    "gadgets_prod_a2 = LpVariable(\"gadgets_prod_a2\",0,None) # Gadget created from adiverstisement in period 2\n",
    "gadgets_prod_a3 = LpVariable(\"gadgets_prod_a3\",0,None) # Gadget created from adiverstisement in period 3\n",
    "gadgets_prod_a4 = LpVariable(\"gadgets_prod_a4\",0,None) # Gadget created from adiverstisement in period 4\n",
    "gadgets_prod_a5 = LpVariable(\"gadgets_prod_a5\",0,None) # Gadget created from adiverstisement in period 5\n",
    "\n",
    "flugels_prod_a1 = LpVariable(\"flugels_prod_a1\",0,None) # Gadget created from adiverstisement in period 1\n",
    "flugels_prod_a2 = LpVariable(\"flugels_prod_a2\",0,None) # Gadget created from adiverstisement in period 2\n",
    "flugels_prod_a3 = LpVariable(\"flugels_prod_a3\",0,None) # Gadget created from adiverstisement in period 3\n",
    "flugels_prod_a4 = LpVariable(\"flugels_prod_a4\",0,None) # Gadget created from adiverstisement in period 4\n",
    "flugels_prod_a5 = LpVariable(\"flugels_prod_a5\",0,None) # Gadget created from adiverstisement in period 5\n",
    "\n",
    "# Plant A Labor hour for production\n",
    "\n",
    "plant_a_labor_p1 = LpVariable(\"plant_a_labor_p1\",0,2500) # Labor for Plant A in Period 1. Maximum labor hours equals 2500\n",
    "plant_a_labor_p2 = LpVariable(\"plant_a_labor_p2\",0,2500) # Labor for Plant A in Period 2. Maximum labor hours equals 2500\n",
    "plant_a_labor_p3 = LpVariable(\"plant_a_labor_p3\",0,2500) # Labor for Plant A in Period 3. Maximum labor hours equals 2500\n",
    "plant_a_labor_p4 = LpVariable(\"plant_a_labor_p4\",0,2500) # Labor for Plant A in Period 4. Maximum labor hours equals 2500\n",
    "plant_a_labor_p5 = LpVariable(\"plant_a_labor_p5\",0,2500) # Labor for Plant A in Period 5. Maximum labor hours equals 2500\n",
    "\n",
    "# Plant A Raw material 1 for production\n",
    "\n",
    "plant_a_material1_p1 = LpVariable(\"plant_a_material1_p1\",0,70) # Raw Material 1 in Plant A for production in period 1. Maximum tons of raw material the vendor provides equals 70\n",
    "plant_a_material1_p2 = LpVariable(\"plant_a_material1_p2\",0,70) # Raw Material 1 in Plant A for production in period 2. Maximum tons of raw material the vendor provides equals 70\n",
    "plant_a_material1_p3 = LpVariable(\"plant_a_material1_p3\",0,70) # Raw Material 1 in Plant A for production in period 3. Maximum tons of raw material the vendor provides equals 70\n",
    "plant_a_material1_p4 = LpVariable(\"plant_a_material1_p4\",0,70) # Raw Material 1 in Plant A for production in period 4. Maximum tons of raw material the vendor provides equals 70\n",
    "plant_a_material1_p5 = LpVariable(\"plant_a_material1_p5\",0,70) # Raw Material 1 in Plant A for production in period 5. Maximum tons of raw material the vendor provides equals 70\n",
    "\n",
    "# Plant A Raw material 2 for production\n",
    "\n",
    "plant_a_material2_p1 = LpVariable(\"plant_a_material2_p1\",0,2.5) # Raw Material 2 in Plant A for production in period 1. Maximum tons of raw material the vendor provides equals 2.5\n",
    "plant_a_material2_p2 = LpVariable(\"plant_a_material2_p2\",0,2.5) # Raw Material 2 in Plant A for production in period 2. Maximum tons of raw material the vendor provides equals 2.5\n",
    "plant_a_material2_p3 = LpVariable(\"plant_a_material2_p3\",0,2.5) # Raw Material 2 in Plant A for production in period 3. Maximum tons of raw material the vendor provides equals 2.5\n",
    "plant_a_material2_p4 = LpVariable(\"plant_a_material2_p4\",0,2.5) # Raw Material 2 in Plant A for production in period 4. Maximum tons of raw material the vendor provides equals 2.5\n",
    "plant_a_material2_p5 = LpVariable(\"plant_a_material2_p5\",0,2.5) # Raw Material 2 in Plant A for production in period 5. Maximum tons of raw material the vendor provides equals 2.5\n",
    "\n",
    "\n",
    "#Price of products to sell\n",
    "\n",
    "widget_price = 2490 # Price to sell one unit of widgets\n",
    "gadget_price = 1990 # Price to sell one unit of gadgets\n",
    "flugels_price = 2970 # Price to seel one unit of flugels\n",
    "\n",
    "# Marketing Constraints on Production\n",
    "\n",
    "#Total advertising budget has to be less than $70,000\n",
    "prob += (widgets_prod_a1 + widgets_prod_a2 + widgets_prod_a3 + widgets_prod_a4 + widgets_prod_a5) * 160 + (gadgets_prod_a1 + gadgets_prod_a2 + gadgets_prod_a3 + gadgets_prod_a4 + gadgets_prod_a5) * 120 + (flugels_prod_a1 + flugels_prod_a2 + flugels_prod_a3 + flugels_prod_a4 + flugels_prod_a5) * 180 <= 70000\n",
    "\n",
    "\n",
    "# Production constraints on products:\n",
    "\n",
    "\n",
    "#Objective Function\n",
    "\n",
    "\n",
    "\n"
   ]
  }
 ],
 "metadata": {
  "kernelspec": {
   "display_name": "Python 3",
   "language": "python",
   "name": "python3"
  },
  "language_info": {
   "codemirror_mode": {
    "name": "ipython",
    "version": 3
   },
   "file_extension": ".py",
   "mimetype": "text/x-python",
   "name": "python",
   "nbconvert_exporter": "python",
   "pygments_lexer": "ipython3",
   "version": "3.11.0"
  }
 },
 "nbformat": 4,
 "nbformat_minor": 2
}
